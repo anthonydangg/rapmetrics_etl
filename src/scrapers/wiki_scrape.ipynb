{
 "cells": [
  {
   "cell_type": "code",
   "execution_count": 308,
   "metadata": {},
   "outputs": [],
   "source": [
    "import requests\n",
    "from bs4 import BeautifulSoup\n",
    "\n",
    "import random\n",
    "import re\n",
    "import pandas as pd\n",
    "import numpy as np\n",
    "\n",
    "from datetime import datetime\n"
   ]
  },
  {
   "cell_type": "code",
   "execution_count": 309,
   "metadata": {},
   "outputs": [],
   "source": [
    "wiki_link = 'https://en.wikipedia.org/wiki/2025_in_hip-hop'\n",
    "\n",
    "headers = {\n",
    "            'User-Agent': random.choice([\n",
    "                'Mozilla/5.0 (Windows NT 10.0; Win64; x64)',\n",
    "                'Mozilla/5.0 (Macintosh; Intel Mac OS X 10_15_7)',\n",
    "                'Mozilla/5.0 (X11; Ubuntu; Linux x86_64; rv:89.0)',\n",
    "            ])\n",
    "        }\n",
    "\n",
    "html_text = requests.get(wiki_link, headers=headers).text\n",
    "soup = BeautifulSoup(html_text, 'lxml')"
   ]
  },
  {
   "cell_type": "code",
   "execution_count": 310,
   "metadata": {},
   "outputs": [],
   "source": [
    "wiki_scrape = soup.select('div.mw-heading.mw-heading3,table.wikitable')\n",
    "#now we want to associate each table with a date. could do {Date:Table}"
   ]
  },
  {
   "cell_type": "code",
   "execution_count": 311,
   "metadata": {},
   "outputs": [
    {
     "data": {
      "text/plain": [
       "'January_2'"
      ]
     },
     "execution_count": 311,
     "metadata": {},
     "output_type": "execute_result"
    }
   ],
   "source": [
    "wiki_scrape[3].find('h3').get('id')"
   ]
  },
  {
   "cell_type": "code",
   "execution_count": 312,
   "metadata": {},
   "outputs": [],
   "source": [
    "data = {}\n",
    "prev_header = None\n",
    "\n",
    "for n in wiki_scrape:\n",
    "    if n.get('class') == ['mw-heading', 'mw-heading3']:\n",
    "        prev_header = n.find('h3').get('id')\n",
    "    elif n.get('class') == ['wikitable']:\n",
    "        data[prev_header] = pd.read_html(str(n))[0] "
   ]
  },
  {
   "cell_type": "markdown",
   "metadata": {},
   "source": [
    "how do we want the data? I guess it would be nice to be one table. Month, Day, Artist, Album, Record Label.\n",
    "Then we can merge on Month?"
   ]
  },
  {
   "cell_type": "code",
   "execution_count": 313,
   "metadata": {},
   "outputs": [],
   "source": [
    "df_lst = []\n",
    "for month, table in data.items():\n",
    "    table['Month'] = re.sub('[^a-zA-Z]+', '', month)\n",
    "    df_lst.append(table)"
   ]
  },
  {
   "cell_type": "code",
   "execution_count": 314,
   "metadata": {},
   "outputs": [],
   "source": [
    "albums_release_data = pd.concat(df_lst)#.to_csv('out.csv', index = False)"
   ]
  },
  {
   "cell_type": "code",
   "execution_count": 315,
   "metadata": {},
   "outputs": [],
   "source": [
    "albums_release_data = albums_release_data.drop(columns=['Ref.', 'Entering chart position'])"
   ]
  },
  {
   "cell_type": "code",
   "execution_count": 316,
   "metadata": {},
   "outputs": [],
   "source": [
    "albums_release_data['Month'] = albums_release_data['Month'].replace('UnscheduledandTBA', np.nan)"
   ]
  },
  {
   "cell_type": "code",
   "execution_count": null,
   "metadata": {},
   "outputs": [],
   "source": [
    "albums_release_data['Day'] = albums_release_data['Day'].replace('TBA', np.nan)"
   ]
  },
  {
   "cell_type": "code",
   "execution_count": 320,
   "metadata": {},
   "outputs": [],
   "source": [
    "albums_release_data = albums_release_data[['Artist(s)','Album','Record label(s)', 'Month', 'Day']]"
   ]
  },
  {
   "cell_type": "code",
   "execution_count": null,
   "metadata": {},
   "outputs": [
    {
     "name": "stdout",
     "output_type": "stream",
     "text": [
      "                                     Artist(s)                                                         Album                                                         Record label(s)     Month   Day\n",
      "0                                    03 Greedo                                2025: The Streetz is Over Wiit                                                       Self-released[13]   January     1\n",
      "1                                  Duwap Kaine                                  Nobody Is Coming To Save You                                                                 TAF[14]   January     1\n",
      "2                      Boldy James & RichGains                                    Murder During Drug Traffic                                                       Self-released[15]   January     3\n",
      "3                                   Jon Connor                                             Food for the Soul                                                       Self-released[16]   January     3\n",
      "4                                     Lil Baby                                                          WHAM                                               Quality Control Music[17]   January     3\n",
      "5                              Various artists                                               Death Row Revue                                            Death Row Records, Gamma[16]   January     3\n",
      "6                                    Bad Bunny                                          Debí Tirar Más Fotos                                                               Rimas[18]   January     5\n",
      "7                                       Ransom                                                 Cabrini Green                                      Black Soprano Family, Momentum[19]   January     8\n",
      "8                                    Diamond D                                         The Diam Piece 3: Duo                                                 Dymond Mine Records[20]   January    10\n",
      "9                                        Rilès                                                 Survival Mode                                                       Self-released[21]   January    10\n",
      "10                              Rio da Yung OG                                                      Rio Free                                                               #Boyz[22]   January    10\n",
      "11                                    Skiifall                                          Lovers Till I'm Gone                                                       Self-released[23]   January    10\n",
      "12                              The Heatmakerz                                    The Anti-Social Experiment                                                       Self-released[19]   January    10\n",
      "13                                        Ziak                                             Essonne History X                                                Errro, Chrome Castle[24]   January    10\n",
      "14                                       Wiley                                                Boom Bap Vol 4                                                       Self-released[25]   January    11\n",
      "15                                Busta Rhymes                                Dragon Season... The Awakening                                                        Conglomerate[26]   January    17\n",
      "16                                       Logic                                                  Aquarius III                                               BMG Rights Management[27]   January    17\n",
      "17                                  Mac Miller                                                  Balloonerism                                                              Warner[28]   January    17\n",
      "18                                Mick Jenkins                                                     Type Shit                                                       Self-released[29]   January    17\n",
      "19                                   Myss Keta                                                     Myss Keta                              Island Records, Universal Music Italia[30]   January    17\n",
      "20                                   OMB Peezy                                                 Drifting Away                                                  Overkill, Hitmaker[19]   January    17\n",
      "21                                Philthy Rich                                        Real, Rich & Respected                                                                 FOD[19]   January    17\n",
      "22                                   Riff Raff                                            Welcome to Shaolin                                         Castles of Chrome, Black 17[19]   January    17\n",
      "23                                 Verbal Jint                                                     Happy End                                                           Otherside[31]   January    17\n",
      "24                                Wu-Syndicate                                                 Wu-Rona Virus                                                       Self-released[32]   January    17\n",
      "25                                       YGTUT                                                 Wash My Hands                                                           The House[33]   January    21\n",
      "26                           24hrs & King Kobi                                               24hrs on Saturn                                                                NORP[34]   January    22\n",
      "27                                      Da Uzi                                              Original Gangsta                                                       Warner France[35]   January    23\n",
      "28                             Zillionaire Doe                                                  D Boi Dreams                                                     CMG, Interscope[36]   January    23\n",
      "29                                 Boldy James                                                 Permanent Ink                                                         Royal House[37]   January    24\n",
      "30                                 Central Cee                                          Can't Rush Greatness                                                            Columbia[38]   January    24\n",
      "31                               Ghais Guevara                                               Goyard Ibn Said                                                          Fat Possum[39]   January    24\n",
      "32                             Homeboy Sandman                                                      Rich 2.5                                                         Dirty Looks[40]   January    24\n",
      "33                                      Hunxho                                                        For Us                                                                 300[41]   January    24\n",
      "34                                       Jeshi                                             Airbag Woke Me Up                                                             Because[42]   January    24\n",
      "35                             Jordan Adetunji                                              A Jaguar's Dream                                        300 Entertainment, Warner UK[43]   January    24\n",
      "36                                   Krizbeatz                                                 Daddy Daycare                                              Streets Legend, ONErpm[44]   January    24\n",
      "37                  Moka Only & Reckonize Real                                          More Vibes & B-Sides                                                           Real Deff[35]   January    24\n",
      "38                                    OsamaSon                                                      Jump Out                                      Atlantic Records, Motion Music[45]   January    24\n",
      "39                                 Uncle Murda                                                Murda He Wrote                                                         ATM, Empire[33]   January    24\n",
      "40                                Young Franco                                             It's Franky Baby!                                                                Neon[46]   January    24\n",
      "41                                  Youssoupha                                                 Amour Supreme                 99 Revolution, AllPoints[47][non-primary source needed]   January    24\n",
      "42                                  Pink Siifu                                                Black'!Antique                                                       Dynamite Hill[48]   January    27\n",
      "43                        Young Dro & Zaytoven                                                  10 Piece Hot                                                        Grand Hustle[49]   January    30\n",
      "44                                    BabyTron                                                     Song Wars                                                 Hip Hop Lab, Empire[50]   January    31\n",
      "45                                     Canibus                        The Almighty Era V2: The Final Chapter                                         Q&A Logistics, 1332 Records[51]   January    31\n",
      "46                                     EST Gee                                            I Aint Feeling You                                                     CMG, Interscope[52]   January    31\n",
      "47                                       Iniko                                                 The Awakening                                               Columbia, Audio Angel[53]   January    31\n",
      "48                                      Madrox  More Music You Don't Wanna Hear From Someone You Barely Like                                           Majik Ninja Entertainment[54]   January    31\n",
      "49                                  Madvillain                                             Madvillainy Demos                                                        Stones Throw[50]   January    31\n",
      "50                                        Mike                                                      Showbiz!                                                                 10k[55]   January    31\n",
      "51                                  The Weeknd                                             Hurry Up Tomorrow                                                        XO, Republic[56]   January    31\n",
      "52                                       V Don                                                      Sent For                       Black Soprano Family, Roc Nation Distribution[53]   January    31\n",
      "0                                    Nino Paid                                               Love Me As I Am                                                    Signal, Columbia[57]  February   4.0\n",
      "1                              Krept and Konan                                                Young Kingz II                                                          Play Dirty[58]  February   7.0\n",
      "2         Larry June, 2 Chainz & The Alchemist                                             Life is Beautiful                         The Freeminded Records, ALC Records, Empire[59]  February   7.0\n",
      "3                                  Montana 700                                                   700 Reasons                                     Remain Solid, 300 Entertainment[60]  February   7.0\n",
      "4                                   Robb Banks                                                    Tha Leak 3                                                       Self-released[61]  February   7.0\n",
      "5                                   Soulja Boy                                                 The Influence                                                               SODMG[61]  February   7.0\n",
      "6                                Sy Ari da Kid                                  The Last Shadow In The Shade                              No I In Team Records, Cinq Music Group[61]  February   7.0\n",
      "7                                         Tyga                                                          NSFW                                                          Last Kings[62]  February   7.0\n",
      "8                     ZelooperZ & Real Bad Man                                               Dear Psilocybin                                                Real Bad Man Records[63]  February   7.0\n",
      "9                                 A$AP Twelvyy                                     I Did More With Less (V1)                                             Two Twelve Technologies[64]  February  12.0\n",
      "10                                Capella Grey                                                U Miss Me Yet?                                    Allepac the Family, 10K Projects[64]  February  12.0\n",
      "11                                        P-Lo                                                  For the Soil             Everywhere Like Air, Golden State Entertainment, Empire[65]  February  12.0\n",
      "12                        Black Milk & Fat Ray                                            Food from the Gods                                                       Computer Ugly[64]  February  13.0\n",
      "13                             Bartees Strange                                                        Horror                                                                 4AD[66]  February  14.0\n",
      "14                                 Brother Ali                                                Satisfied Soul                                                   Mello Music Group[67]  February  14.0\n",
      "15                                   D. Savage                                             We Love D. Savage                                                              Empire[64]  February  14.0\n",
      "16                       Drake & PartyNextDoor                                           Some Sexy Songs 4 U                                         OVO Sound, Republic Records[68]  February  14.0\n",
      "17                                   Dro Kenji                                                    Love Kills                                                        10K Projects[69]  February  14.0\n",
      "18                         Jacquees & DeJ Loaf                                           Fuck A Friendzone 2                                           Yellow World, FYB Records[70]  February  14.0\n",
      "19                                John Glacier                                                 Like A Ribbon                                                               Young[71]  February  14.0\n",
      "20                                     OhGeesy                                                   Paid N Full                                                            Atlantic[72]  February  14.0\n",
      "21                                       They.                                                    Love.Jones                                                       Drink Sum Wtr[73]  February  14.0\n",
      "22                               Westside Gunn                                                            12                                                    Griselda Records[74]  February  14.0\n",
      "23                                   Yung Bleu                                           What Makes Us Human                                                      Moon Boy Music[64]  February   NaN\n",
      "0                                  Eem Triplin                                            Melody of a Memory                                                                     RCA  February    17\n",
      "1                                       Morray                                              Long Story Short                                                                  Empire  February    21\n",
      "2                           Ransom & Dave East                                                The Final Call                                                           FTD, Momentum  February    21\n",
      "3                                  Roddy Ricch                                                The Navy Album                                                        Atlantic Records  February    21\n",
      "4                                    Saint Jhn                                               Festival Season                                                           Godd Complexx  February    21\n",
      "5                                Smif-n-Wessun                                                      Infinity                                           Bucktown USA, Duck Down Music  February    21\n",
      "6                Boldy James & Chuck Strangers                                         Token of Appreciation                                                           Self-released  February    27\n",
      "7                                      DeeBaby                                                   Ms. Salazar                                    Already Platinum, Create Music Group  February    28\n",
      "8                                       G-Eazy                                                        Helium                                                                     RCA  February    28\n",
      "9                                    Jim Jones                                           At the Church Steps                                                    Hitmaker Music Group  February    28\n",
      "10                                        Lisa                                                     Alter Ego                                                              Lloud, RCA  February    28\n",
      "11                                      Reason                                              I Love You Again                                                Do More Records, 195 Oak  February    28\n",
      "12                                   Key Glock                                                    Glockaveli                                                      Paper Route Empire  February   NaN\n",
      "13                                    Lil Baby                                                     Dominique                                                   Quality Control Music  February   NaN\n",
      "0                           Capo Lee & Big Zuu                                            Signed & Delivered                                                           Legacy Living     March     7\n",
      "1                                   De La Soul                           Clear Lake Audiotorium (Re-release)                                                       Chrysalis Records     March     7\n",
      "2                                     Lil Durk                                                 Deep Thoughts                                                                   Alamo     March     7\n",
      "3                                   Tokimonsta                                               Eternal Reverie                                                               Young Art     March     7\n",
      "4                                     Clipping                                              Dead Channel Sky                                                                 Sub Pop     March    14\n",
      "5                                 Goya Gumbani                                        Warlord of the Weejuns                                                   Ghostly International     March    21\n",
      "6                                 Busta Rhymes                                                 Dragon Season                                                            Conglomerate     March    28\n",
      "7                   Yasiin Bey & The Alchemist                                                     Forensics                                                                     TBA     March    28\n",
      "0               Infinity Knives & Brian Ennals                           A City Drowned in God's Black Tears                                                           Self-released     April     4\n",
      "1                                  Bliss n Eso                                     The Moon (The Light Side)                                                   Flight Deck, Mushroom     April    11\n",
      "2                   Wu-Tang Clan & Mathematics                           Black Samson, The Bastard Swordsman                                                Ruffnation Entertainment     April    12\n",
      "3                                   Fly Anakin                                           (The) Forever Dream                                                             Lex Records     April    25\n",
      "4                                 Travis Scott                                                           TBA                                                       Cactus Jack, Epic     April   NaN\n",
      "0                                    Lil Wayne                                                 Tha Carter VI                             Young Money Entertainment, Republic Records      June     6\n",
      "1                                   Kanye West                                                         Bully                                                           Self-released      June    15\n",
      "0                                   André 3000                                                           TBA                                                                     TBA       NaN   NaN\n",
      "1                             Anuel AA & Ozuna                                                  Los Dioses 2                                        Real Hasta la Muerte, Aura Music       NaN   NaN\n",
      "2                                   A$AP Rocky                                                 Don't Be Dumb                                                      AWGE, Polo Grounds       NaN   NaN\n",
      "3                                    Baby Keem                                             Child with Wolves                                                PGLang, Columbia Records       NaN   NaN\n",
      "4                                         B.G.                                        Heart of the Streets 3                                                   Chopper Brick Records       NaN   NaN\n",
      "5                     Big Sean & The Alchemist                                                           TBA                                                                     TBA       NaN   NaN\n",
      "6                         Boosie Badazz & B.G.                                                           TBA                                                                     TBA       NaN   NaN\n",
      "7                                    Burna Boy                                           No Sign of Weakness                                          Spaceship, Bad Habit, Atlantic       NaN   NaN\n",
      "8                                      Cardi B                                                           TBA                                                                     TBA       NaN   NaN\n",
      "9                            Chance the Rapper                                             Star Line Gallery                                                           Self-released       NaN   NaN\n",
      "10                                      Clipse                                           Let God Sort Em Out                                                                 Def Jam       NaN   NaN\n",
      "11  Conway the Machine & J.U.S.T.I.C.E. League                                                           TBA                                                     Empire Distribution       NaN   NaN\n",
      "12                                      Coolio                                              Long Live Coolio                                                       Tommy Boy Records       NaN   NaN\n",
      "13                        Damon Dash & Freeway                                                           365                                                                     TBA       NaN   NaN\n",
      "14                                Denzel Curry                                                  Unlocked 2.0                                               PH Recordings, Loma Vista       NaN   NaN\n",
      "15                                Denzel Curry                                            Designed By Angels                                               PH Recordings, Loma Vista       NaN   NaN\n",
      "16                                   DJ Khaled                                                  Aalam of God                                   We The Best Music, Def Jam Recordings       NaN   NaN\n",
      "17                   DJ Premier & Roc Marciano                                                           TBA                                                                     TBA       NaN   NaN\n",
      "18                                     DJ Quik                                                           TBA                                                               Ingrooves       NaN   NaN\n",
      "19                                         DMC                                                           TBA                                                                     TBA       NaN   NaN\n",
      "20                                     Doechii                                                           TBA                                                                     TDE       NaN   NaN\n",
      "21                              Dres & J Dilla                                                           TBA                                                            Stones Throw       NaN   NaN\n",
      "22                                        E-40                                         Rule of Thumb: Rule 2                                        Heavy On The Grind Entertainment       NaN   NaN\n",
      "23                                    Fabolous                                                   SOUL Tape 4                                          Def Jam Recordings, Roc Nation       NaN   NaN\n",
      "24                              Flipmode Squad                                                           TBA                                                                     TBA       NaN   NaN\n",
      "25                      Freddie Gibbs & Madlib                                                       Montana                                                                     TBA       NaN   NaN\n",
      "26                                    Griselda                                                        WWCD 2                                                        Griselda Records       NaN   NaN\n",
      "27                                    Hot Boys                                                           TBA                                                      Cash Money Records       NaN   NaN\n",
      "28                                     J. Cole                                                  The Fall Off                                                              Dreamville       NaN   NaN\n",
      "29                                     Ja Rule                                                           TBA                                         M-PIRE Records, Def Jam Records       NaN   NaN\n",
      "30                                    Jadakiss                                                           TBA                                            SoRaspy, Roc Nation, Def Jam       NaN   NaN\n",
      "31                                    Jay Rock                                               Eastside Johnny                              Top Dawg Entertainment, Interscope Records       NaN   NaN\n",
      "32                                         JID                                               Forever & A Day                                                              Dreamville       NaN   NaN\n",
      "33                          JID & Metro Boomin                                                        JIDTRO                                         Dreamville, Boominati Worldwide       NaN   NaN\n",
      "34                                   Jim Jones                                                           TBA                                                    Hitmaker Music Group       NaN   NaN\n",
      "35                    Juelz Santana & DJ Drama                                                  We In Motion  Def Jam Recordings, Diplomat Records, Generation Now, MNRK Music Group       NaN   NaN\n",
      "36                          Juicy J & BeatKing                                                     Ratchet P                                                                     TBA       NaN   NaN\n",
      "37                                  Ken Carson                                                    More Chaos                                                                   Opium       NaN   NaN\n",
      "38                                    Kid Cudi                                    The Soundtrack of Moon Man                                                Wicked Awesome, Republic       NaN   NaN\n",
      "39                                         K.O                                    I Think You Spoke Too Soon                       Sony Music Entertainment Africa, Skhanda Republic       NaN   NaN\n",
      "40                                         KSI                                           Caught In Two Minds                                                        Atlantic, Warner       NaN   NaN\n",
      "41                                   Leikeli47                    Lei Keli ft. 47 / For Promotional Use Only                                       Acrylic, Hardcover, Thirty Tigers       NaN   NaN\n",
      "42                       Lil Baby & Young Thug                                                           TBA     Glass Window, Wolfpack, Quality Control, Motown, YSL, 300, Atlantic       NaN   NaN\n",
      "43                                   Lil Nas X                                                           TBA                                                                Columbia       NaN   NaN\n",
      "44                                       Logic                                                   Phonkadelic                         BobbyBoy Records, Three Oh One Productions, BMG       NaN   NaN\n",
      "45                             Logic & Juicy J                                             Live and In Color                                          Trippy Music, BobbyBoy Records       NaN   NaN\n",
      "46                                    Ludacris                                                           TBA                                Disturbing Tha Peace, Def Jam Recordings       NaN   NaN\n",
      "47                         Mac Miller & Madlib                                                        Maclib                                                   Stones Throw, Rostrum       NaN   NaN\n",
      "48             Mach-Hommy & Conductor Williams                                                           TBA                                                                     TBA       NaN   NaN\n",
      "49                                   Meek Mill                              Dream Chasers Vol. 1: La Familia                                 Dream Chasers Records, Atlantic Records       NaN   NaN\n",
      "50                           Mike Will Made It                                                         R3SET                                                     Eardrummers Records       NaN   NaN\n",
      "51                                   Mobb Deep                                                           TBA                                                                     TBA       NaN   NaN\n",
      "52                            Nas & DJ Premier                                                           TBA                                                             Mass Appeal       NaN   NaN\n",
      "53                                         Nav                                           On My Way 2 Rexdale                                                            XO, Republic       NaN   NaN\n",
      "54                                       Nelly                                                           TBA                                                  Derrty, Motown Records       NaN   NaN\n",
      "55                                    N.E.R.D.                                                           TBA                                                              I Am Other       NaN   NaN\n",
      "56                                 Nicki Minaj                                                 Pink Friday 3                                                             Young Money       NaN   NaN\n",
      "57                                      Offset                                                         Kiari                                                          Motown Records       NaN   NaN\n",
      "58                              Pharoahe Monch                                              External Affairs                                                                     TBA       NaN   NaN\n",
      "59                               Playboi Carti                                                    I Am Music                                                AWGE, Interscope Records       NaN   NaN\n",
      "60                       Project Pat & Juicy J                                                    Them Goats                                                                     TBA       NaN   NaN\n",
      "61                          Pusha T & DJ Drama                                                           TBA                                                         Heir Wave Music       NaN   NaN\n",
      "62                                   Rick Ross                                             Champagne Moments                                 Maybach Music Group, Def Jam Recordings       NaN   NaN\n",
      "63                                     Remy Ma                                                           TBA                                                                     TBA       NaN   NaN\n",
      "64                              Run the Jewels                                              Run the Jewels 5                                                      Jewel Runners, BMG       NaN   NaN\n",
      "65                                        Russ                                                       Chomp 3                                                          Diemon Records       NaN   NaN\n",
      "66                              Saba & No I.D.                 From the Private Collection of Saba & No I.D.                                                                  ARTium       NaN   NaN\n",
      "67                                    Saweetie                                            Pretty Bitch Music                                                        Artistry, Warner       NaN   NaN\n",
      "68                                     ScarLip                                             Scars and Stripes                                                            Epic Records       NaN   NaN\n",
      "69                                      Skepta                                                Knife and Fork                                                         Boy Better Know       NaN   NaN\n",
      "70                                  Slick Rick                                                           TBA                                                      Def Jam Recordings       NaN   NaN\n",
      "71                                       Smino                                            She Always Dancing                                                    Zero Fatigue, Motown       NaN   NaN\n",
      "72                      Snoop Dogg & Dave East                                                           TBA                                                               Death Row       NaN   NaN\n",
      "73                    Styles P & Black Thought                                                           TBA                                             D-Block, Def Jam Recordings       NaN   NaN\n",
      "74                                Sylvan LaCue                                   Nobody's Coming to Save You                                                       LaCue Enterprises       NaN   NaN\n",
      "75                                     Takeoff                                                           TBA                                   Quality Control Music, Motown Records       NaN   NaN\n",
      "76                                       Tay-K                                                           TBA                                                                     TBA       NaN   NaN\n",
      "77                                  The D.O.C.                                                           TBA                                                       Death Row Records       NaN   NaN\n",
      "78                                     The Lox                                                           TBA                                                    D-Block, Ruff Ryders       NaN   NaN\n",
      "79                                   The Roots                                                           TBA                                                                     TBA       NaN   NaN\n",
      "80                                        T.I.                                                 Kill the King                                                    Grand Hustle Records       NaN   NaN\n",
      "81                                        T.I.                                                 Kiss the King                                                    Grand Hustle Records       NaN   NaN\n",
      "82                              Trae tha Truth                                                         Angel                                                           Self-released       NaN   NaN\n",
      "83                                      Treach                                                           TBA                                                       Tommy Boy, Arista       NaN   NaN\n",
      "84                               Westside Gunn                                  Flygod Is An Awesome God III                                                        Griselda Records       NaN   NaN\n",
      "85                                  Will Smith                                 Dance In Your Darkest Moments                       Interscope Records, Columbia Records, RCA Records       NaN   NaN\n",
      "86                                 Wiz Khalifa                                                   Wizzlemania                                             Taylor Gang, Asylum Records       NaN   NaN\n",
      "87                                 Wiz Khalifa                                                 Kush & O.J. 2                                             Taylor Gang, Asylum Records       NaN   NaN\n",
      "88                                      Xzibit                                                     Kingmaker                                                       Greenback Records       NaN   NaN\n",
      "89                     Your Old Droog & Madlib                                                           TBA                                                         Madlib Invazion       NaN   NaN\n",
      "90                                   Yung Lean                                                       Jonatan                                                           World Affairs       NaN   NaN\n",
      "91                                  Yung Miami                                                          Yams                                   Quality Control Music, Motown Records       NaN   NaN\n"
     ]
    }
   ],
   "source": [
    "print(albums_release_data.to_string())\n",
    "#how should multiple artists/record labels be handled? list?\n",
    "#create new table for any list when data modeling"
   ]
  }
 ],
 "metadata": {
  "kernelspec": {
   "display_name": "base",
   "language": "python",
   "name": "python3"
  },
  "language_info": {
   "codemirror_mode": {
    "name": "ipython",
    "version": 3
   },
   "file_extension": ".py",
   "mimetype": "text/x-python",
   "name": "python",
   "nbconvert_exporter": "python",
   "pygments_lexer": "ipython3",
   "version": "3.9.7"
  }
 },
 "nbformat": 4,
 "nbformat_minor": 2
}
